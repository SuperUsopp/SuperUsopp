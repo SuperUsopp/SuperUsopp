{
 "cells": [
  {
   "cell_type": "code",
   "execution_count": 1,
   "metadata": {},
   "outputs": [],
   "source": [
    "# 线性回归的简洁实现（通过使用深度学习框架来实现）\n",
    "# 1、生成数据集\n",
    "import numpy as np\n",
    "import torch\n",
    "from torch.utils import data\n",
    "from d2l import torch as d2l\n",
    "\n",
    "true_w = torch.tensor([2, -3.4])\n",
    "true_b = 4.2\n",
    "features, labels = d2l.synthetic_data(true_w, true_b, 1000)"
   ]
  },
  {
   "cell_type": "code",
   "execution_count": 2,
   "metadata": {},
   "outputs": [],
   "source": [
    "# 2、读取数据集\n",
    "# 调用框架中现有的API来读取数据\n",
    "def load_array(data_arrays, batch_size, is_train=True):\n",
    "    dataset = data.TensorDataset(*data_arrays)\n",
    "    return data.DataLoader(dataset, batch_size, shuffle=is_train)\n",
    "\n",
    "batch_size = 10\n",
    "data_iter = load_array((features, labels), batch_size)"
   ]
  },
  {
   "cell_type": "code",
   "execution_count": 3,
   "metadata": {},
   "outputs": [],
   "source": [
    "# 3、定义模型\n",
    "from torch import nn\n",
    "net = nn.Sequential(nn.Linear(2, 1))"
   ]
  },
  {
   "cell_type": "code",
   "execution_count": 4,
   "metadata": {},
   "outputs": [
    {
     "data": {
      "text/plain": [
       "tensor([0.])"
      ]
     },
     "execution_count": 4,
     "metadata": {},
     "output_type": "execute_result"
    }
   ],
   "source": [
    "# 4、初始化模型参数\n",
    "# 指定每个权重参数从均值为0、标准差为0.01的正态分布中随机采样，偏置参数初始化为0\n",
    "net[0].weight.data.normal_(0, 0.01)\n",
    "net[0].bias.data.fill_(0)"
   ]
  },
  {
   "cell_type": "code",
   "execution_count": 5,
   "metadata": {},
   "outputs": [],
   "source": [
    "# 5、定义损失函数\n",
    "loss = nn.MSELoss()"
   ]
  },
  {
   "cell_type": "code",
   "execution_count": 6,
   "metadata": {},
   "outputs": [],
   "source": [
    "# 6、定义优化算法\n",
    "trainer = torch.optim.SGD(net.parameters(), lr=0.03)"
   ]
  },
  {
   "cell_type": "code",
   "execution_count": 11,
   "metadata": {},
   "outputs": [
    {
     "name": "stdout",
     "output_type": "stream",
     "text": [
      "epoch1, loss0.000098\n",
      "epoch2, loss0.000099\n",
      "epoch3, loss0.000100\n",
      "epoch4, loss0.000100\n",
      "epoch5, loss0.000098\n",
      "epoch6, loss0.000098\n",
      "epoch7, loss0.000099\n",
      "epoch8, loss0.000098\n",
      "epoch9, loss0.000099\n",
      "epoch10, loss0.000099\n",
      "epoch11, loss0.000099\n",
      "epoch12, loss0.000099\n",
      "epoch13, loss0.000099\n",
      "epoch14, loss0.000099\n",
      "epoch15, loss0.000099\n",
      "epoch16, loss0.000099\n",
      "epoch17, loss0.000098\n",
      "epoch18, loss0.000098\n",
      "epoch19, loss0.000099\n",
      "epoch20, loss0.000098\n",
      "epoch21, loss0.000099\n",
      "epoch22, loss0.000100\n",
      "epoch23, loss0.000100\n",
      "epoch24, loss0.000099\n",
      "epoch25, loss0.000098\n",
      "epoch26, loss0.000099\n",
      "epoch27, loss0.000098\n",
      "epoch28, loss0.000100\n",
      "epoch29, loss0.000098\n",
      "epoch30, loss0.000099\n"
     ]
    }
   ],
   "source": [
    "# 7、训练\n",
    "# 通过调用net(X)生成预测并计算损失l(正向传播)\n",
    "# 通过进行反向传播来计算梯度\n",
    "# 通过调用优化器来更新模型参数\n",
    "num_epochs = 30\n",
    "for epoch in range(num_epochs):\n",
    "    for X, y in data_iter:\n",
    "        l = loss(net(X), y)\n",
    "        trainer.zero_grad()\n",
    "        l.backward()\n",
    "        trainer.step()\n",
    "    l = loss(net(features), labels)\n",
    "    print(f'epoch{epoch+1}, loss{l:f}')"
   ]
  },
  {
   "cell_type": "code",
   "execution_count": 10,
   "metadata": {},
   "outputs": [
    {
     "name": "stdout",
     "output_type": "stream",
     "text": [
      "w的估计误差 tensor([-3.5644e-04, -8.5115e-05])\n",
      "b的估计误差 tensor([0.0003])\n"
     ]
    }
   ],
   "source": [
    "# 比较生成数据集的真实参数和通过有限数据训练获得的模型参数\n",
    "# 要访问参数，首先从net访问所需的层，然后读取该层的权重和偏置\n",
    "w = net[0].weight.data\n",
    "print('w的估计误差', true_w - w.reshape(true_w.shape))\n",
    "b = net[0].bias.data\n",
    "print('b的估计误差', true_b - b)"
   ]
  },
  {
   "cell_type": "code",
   "execution_count": null,
   "metadata": {},
   "outputs": [],
   "source": []
  }
 ],
 "metadata": {
  "interpreter": {
   "hash": "af407973ba12897262deda9d8992946cc1a9873fff2de40f1acc89cdf9010052"
  },
  "kernelspec": {
   "display_name": "Python 3.6.13 64-bit ('pytorch': conda)",
   "language": "python",
   "name": "python3"
  },
  "language_info": {
   "codemirror_mode": {
    "name": "ipython",
    "version": 3
   },
   "file_extension": ".py",
   "mimetype": "text/x-python",
   "name": "python",
   "nbconvert_exporter": "python",
   "pygments_lexer": "ipython3",
   "version": "3.6.13"
  },
  "orig_nbformat": 4
 },
 "nbformat": 4,
 "nbformat_minor": 2
}
